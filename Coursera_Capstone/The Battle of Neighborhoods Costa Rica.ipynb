{
 "cells": [
  {
   "cell_type": "code",
   "execution_count": null,
   "metadata": {},
   "outputs": [],
   "source": []
  },
  {
   "cell_type": "code",
   "execution_count": null,
   "metadata": {},
   "outputs": [],
   "source": []
  },
  {
   "cell_type": "code",
   "execution_count": 24,
   "metadata": {},
   "outputs": [],
   "source": [
    "import pandas as pd\n",
    "import numpy as np"
   ]
  },
  {
   "cell_type": "code",
   "execution_count": 25,
   "metadata": {},
   "outputs": [],
   "source": [
    "dataCR = 'SJ_Data.xlsx'\n",
    "sanjose_group = pd.read_excel(dataCR)"
   ]
  },
  {
   "cell_type": "code",
   "execution_count": 26,
   "metadata": {},
   "outputs": [
    {
     "data": {
      "text/html": [
       "<div>\n",
       "<style scoped>\n",
       "    .dataframe tbody tr th:only-of-type {\n",
       "        vertical-align: middle;\n",
       "    }\n",
       "\n",
       "    .dataframe tbody tr th {\n",
       "        vertical-align: top;\n",
       "    }\n",
       "\n",
       "    .dataframe thead th {\n",
       "        text-align: right;\n",
       "    }\n",
       "</style>\n",
       "<table border=\"1\" class=\"dataframe\">\n",
       "  <thead>\n",
       "    <tr style=\"text-align: right;\">\n",
       "      <th></th>\n",
       "      <th>Postal Code</th>\n",
       "      <th>Borough</th>\n",
       "      <th>Neighborhood</th>\n",
       "    </tr>\n",
       "  </thead>\n",
       "  <tbody>\n",
       "    <tr>\n",
       "      <td>0</td>\n",
       "      <td>10101</td>\n",
       "      <td>Carmen</td>\n",
       "      <td>Amón, Aranjuez, Carmen, Empalme, Escalante,Oto...</td>\n",
       "    </tr>\n",
       "    <tr>\n",
       "      <td>1</td>\n",
       "      <td>10102</td>\n",
       "      <td>Merced</td>\n",
       "      <td>Bajos de la Unión, Claret, Coca Cola, Iglesias...</td>\n",
       "    </tr>\n",
       "  </tbody>\n",
       "</table>\n",
       "</div>"
      ],
      "text/plain": [
       "   Postal Code Borough                                       Neighborhood\n",
       "0        10101  Carmen  Amón, Aranjuez, Carmen, Empalme, Escalante,Oto...\n",
       "1        10102  Merced  Bajos de la Unión, Claret, Coca Cola, Iglesias..."
      ]
     },
     "execution_count": 26,
     "metadata": {},
     "output_type": "execute_result"
    }
   ],
   "source": [
    "sanjose_group.head(2)"
   ]
  },
  {
   "cell_type": "code",
   "execution_count": 27,
   "metadata": {},
   "outputs": [],
   "source": [
    "coordiantesSJ = 'Geospatial_Coordinates_CR_SJ.xlsx'\n",
    "geo_data = pd.read_excel(coordiantesSJ)"
   ]
  },
  {
   "cell_type": "code",
   "execution_count": 28,
   "metadata": {},
   "outputs": [],
   "source": [
    "#Merge two dataframes with a inner join on 'Postal Code' column\n",
    "geo_SJ = pd.merge(sanjose_group, geo_data , on='Postal Code')"
   ]
  },
  {
   "cell_type": "code",
   "execution_count": 29,
   "metadata": {},
   "outputs": [
    {
     "data": {
      "text/html": [
       "<div>\n",
       "<style scoped>\n",
       "    .dataframe tbody tr th:only-of-type {\n",
       "        vertical-align: middle;\n",
       "    }\n",
       "\n",
       "    .dataframe tbody tr th {\n",
       "        vertical-align: top;\n",
       "    }\n",
       "\n",
       "    .dataframe thead th {\n",
       "        text-align: right;\n",
       "    }\n",
       "</style>\n",
       "<table border=\"1\" class=\"dataframe\">\n",
       "  <thead>\n",
       "    <tr style=\"text-align: right;\">\n",
       "      <th></th>\n",
       "      <th>Postal Code</th>\n",
       "      <th>Borough</th>\n",
       "      <th>Neighborhood</th>\n",
       "      <th>Latitude</th>\n",
       "      <th>Longitude</th>\n",
       "    </tr>\n",
       "  </thead>\n",
       "  <tbody>\n",
       "    <tr>\n",
       "      <td>0</td>\n",
       "      <td>10101</td>\n",
       "      <td>Carmen</td>\n",
       "      <td>Amón, Aranjuez, Carmen, Empalme, Escalante,Oto...</td>\n",
       "      <td>9.93623</td>\n",
       "      <td>-84.06976</td>\n",
       "    </tr>\n",
       "    <tr>\n",
       "      <td>1</td>\n",
       "      <td>10102</td>\n",
       "      <td>Merced</td>\n",
       "      <td>Bajos de la Unión, Claret, Coca Cola, Iglesias...</td>\n",
       "      <td>9.94005</td>\n",
       "      <td>-84.08776</td>\n",
       "    </tr>\n",
       "    <tr>\n",
       "      <td>2</td>\n",
       "      <td>10103</td>\n",
       "      <td>Hospital</td>\n",
       "      <td>Almendrares, Ángeles, Cuba, Bolívar, Carit, Co...</td>\n",
       "      <td>9.92618</td>\n",
       "      <td>-84.08926</td>\n",
       "    </tr>\n",
       "    <tr>\n",
       "      <td>3</td>\n",
       "      <td>10104</td>\n",
       "      <td>Catedral</td>\n",
       "      <td>Bella Vista, Carlos María Jiménez, Catedral, D...</td>\n",
       "      <td>9.92439</td>\n",
       "      <td>-84.07122</td>\n",
       "    </tr>\n",
       "    <tr>\n",
       "      <td>4</td>\n",
       "      <td>10105</td>\n",
       "      <td>Zapote</td>\n",
       "      <td>Cerrito, Jardín, Montealegre, Los Mangos, Yose...</td>\n",
       "      <td>9.92029</td>\n",
       "      <td>-84.06001</td>\n",
       "    </tr>\n",
       "  </tbody>\n",
       "</table>\n",
       "</div>"
      ],
      "text/plain": [
       "   Postal Code   Borough                                       Neighborhood  \\\n",
       "0        10101    Carmen  Amón, Aranjuez, Carmen, Empalme, Escalante,Oto...   \n",
       "1        10102    Merced  Bajos de la Unión, Claret, Coca Cola, Iglesias...   \n",
       "2        10103  Hospital  Almendrares, Ángeles, Cuba, Bolívar, Carit, Co...   \n",
       "3        10104  Catedral  Bella Vista, Carlos María Jiménez, Catedral, D...   \n",
       "4        10105    Zapote  Cerrito, Jardín, Montealegre, Los Mangos, Yose...   \n",
       "\n",
       "   Latitude  Longitude  \n",
       "0   9.93623  -84.06976  \n",
       "1   9.94005  -84.08776  \n",
       "2   9.92618  -84.08926  \n",
       "3   9.92439  -84.07122  \n",
       "4   9.92029  -84.06001  "
      ]
     },
     "execution_count": 29,
     "metadata": {},
     "output_type": "execute_result"
    }
   ],
   "source": [
    "geo_SJ.head()"
   ]
  },
  {
   "cell_type": "code",
   "execution_count": null,
   "metadata": {},
   "outputs": [],
   "source": []
  },
  {
   "cell_type": "code",
   "execution_count": null,
   "metadata": {},
   "outputs": [],
   "source": []
  }
 ],
 "metadata": {
  "kernelspec": {
   "display_name": "Python 3",
   "language": "python",
   "name": "python3"
  },
  "language_info": {
   "codemirror_mode": {
    "name": "ipython",
    "version": 3
   },
   "file_extension": ".py",
   "mimetype": "text/x-python",
   "name": "python",
   "nbconvert_exporter": "python",
   "pygments_lexer": "ipython3",
   "version": "3.7.4"
  }
 },
 "nbformat": 4,
 "nbformat_minor": 2
}
